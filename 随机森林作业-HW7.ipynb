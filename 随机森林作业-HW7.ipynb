{
 "cells": [
  {
   "metadata": {},
   "cell_type": "markdown",
   "source": [
    "## 简答题\n",
    "1. 如果已经在完全相同的训练集上训练了5个不同的模型，并且它们都达到了95%的准确率，是否还有机会获得更好的效果？如果可以，该怎么做？ 如果不行，为什么？\n",
    "仍有机会：把 5 个 95 % 的模型再用投票/平均等策略集成，误差就会相互抵消，整体准确率通常高于 95 %。\n",
    "\n",
    "2. 硬投票分类器和软投票分类器有什么区别？\n",
    "硬投票看“谁票多”，只数类别标签；软投票看“谁信心高”，把各模型的预测概率加权平均后再决定类别。\n",
    "\n",
    "3. 是否可以通过在多个服务器上并行来加速bagging集成的训练？pasting集成呢？提升集成呢？随机森林或堆叠集成呢？\n",
    "可以并行。pasting集成，提升集成等大部分集成都不影响，boosting 必须串行迭代，无法直接并行。\n",
    "\n",
    "4. 包外评估的好处是什么？\n",
    "包外评估用未参与每棵树训练的样本做验证，相当于“自带验证集”，省掉额外交叉验证，且不会浪费数据。\n",
    "\n",
    "5. 是什么让极端随机树比一般随机森林更加随机？这部分增加的随机性有什么用？极端随机树比一般随机森林快还是慢？\n",
    "极端随机树不仅随机选取特征，还会随机取阈值。更多随机性进一步降低方差、加速训练，因此比常规随机森林更快。\n",
    "\n",
    "6. 如果AdaBoost集成对训练数据欠拟合，应该调整哪些超参数？怎么调整？\n",
    "增大基模型复杂度、增加n_estimators，减小learning_rate。\n",
    "\n",
    "7. 如果梯度提升集成对训练集过拟合，应该提升还是降低学习率？\n",
    "降低学习率。"
   ],
   "id": "878186d2264ec5b9"
  },
  {
   "metadata": {},
   "cell_type": "markdown",
   "source": [
    "## 编程题\n",
    "1. 加载MNIST数据集（**8_sklearn做分类** 里有介绍），将其分为一个训练集、一个验证集和一个测试集（例如使用40000个实例训练，10000个实例验证，最后20000个实例测试）。然后训练多个分类器，比如一个随机森林分类器、一个极端随机树分类器和一个SVM。接下来，尝试使用软投票法或者硬投票法将它们组合成一个集成，这个集成在验证集上的表现要胜过它们各自单独的表现。成功找到集成后，在测试集上测试。与单个的分类器相比，它的性能要好多少？\n",
    "\n",
    "\n",
    "2. 运行上一题中的单个分类器，用验证集进行预测，然后用预测结果创建一个新的训练集：新训练集中的每个实例都是一个向量，这个向量包含所有分类器对于一个图像的一组预测，目标值是图像的类。恭喜，你成功训练了一个混合器，结合第一层的分类器，它们一起构成了一个堆叠集成。现在在测试集上评估这个集成。对于测试集中的每个图像，使用所有的分类器进行预测，然后将预测结果提供给混合器，得到集成的预测。与前面训练的投票分类器相比，这个集成的结果如何？现在再次尝试使用StackingClassifier。你得到了更好的性能吗？如果是这样，为什么？"
   ],
   "id": "e00fcb10de95b7a"
  },
  {
   "metadata": {
    "ExecuteTime": {
     "end_time": "2025-08-19T12:25:05.444974Z",
     "start_time": "2025-08-19T12:25:05.306764Z"
    }
   },
   "cell_type": "code",
   "source": [
    "import numpy as np\n",
    "from sklearn.datasets import fetch_openml\n",
    "from sklearn.model_selection import train_test_split\n",
    "from sklearn.preprocessing import StandardScaler\n",
    "from sklearn.pipeline import Pipeline\n",
    "from sklearn.ensemble import RandomForestClassifier, ExtraTreesClassifier, VotingClassifier\n",
    "from sklearn.svm import SVC\n",
    "from sklearn.metrics import accuracy_score"
   ],
   "id": "37406aa918bede97",
   "outputs": [],
   "execution_count": 27
  },
  {
   "metadata": {
    "ExecuteTime": {
     "end_time": "2025-08-19T11:47:06.206301Z",
     "start_time": "2025-08-19T11:46:33.802055Z"
    }
   },
   "cell_type": "code",
   "source": [
    "print(\"Loading MNIST ...\")\n",
    "X, y = fetch_openml('mnist_784', version=1, return_X_y=True, as_frame=False)\n"
   ],
   "id": "6bc1b42217284ff7",
   "outputs": [
    {
     "name": "stdout",
     "output_type": "stream",
     "text": [
      "Loading MNIST ...\n"
     ]
    }
   ],
   "execution_count": 5
  },
  {
   "metadata": {
    "ExecuteTime": {
     "end_time": "2025-08-19T14:21:48.438601Z",
     "start_time": "2025-08-19T14:21:47.827616Z"
    }
   },
   "cell_type": "code",
   "source": [
    "X = X.astype(np.float32) / 255.0\n",
    "y = y.astype(np.int64)"
   ],
   "id": "d215cb9eaee470c8",
   "outputs": [],
   "execution_count": 32
  },
  {
   "metadata": {
    "ExecuteTime": {
     "end_time": "2025-08-19T14:21:52.519903Z",
     "start_time": "2025-08-19T14:21:51.269972Z"
    }
   },
   "cell_type": "code",
   "source": [
    "X_train_val, X_test, y_train_val, y_test = train_test_split(\n",
    "    mnist.data, mnist.target, test_size=10000, random_state=42)\n",
    "X_train, X_val, y_train, y_val = train_test_split(\n",
    "    X_train_val, y_train_val, test_size=10000, random_state=42)"
   ],
   "id": "11bab7ad16ab7c49",
   "outputs": [],
   "execution_count": 33
  },
  {
   "metadata": {
    "ExecuteTime": {
     "end_time": "2025-08-19T14:21:54.184654Z",
     "start_time": "2025-08-19T14:21:54.171675Z"
    }
   },
   "cell_type": "code",
   "source": [
    "rf_clf = RandomForestClassifier(\n",
    "    n_estimators=100,\n",
    "    max_depth=None,\n",
    "    random_state=42\n",
    ")\n",
    "\n",
    "et_clf = ExtraTreesClassifier(\n",
    "    n_estimators=100,\n",
    "    max_depth=None,\n",
    "    random_state=42\n",
    ")\n",
    "\n",
    "svm_clf  = Pipeline([\n",
    "    ('scaler', StandardScaler()),\n",
    "    ('svc', SVC(kernel='rbf', C=10, gamma=0.01,random_state=42))\n",
    "])\n",
    "\n"
   ],
   "id": "46e52adf6529b526",
   "outputs": [],
   "execution_count": 34
  },
  {
   "metadata": {
    "jupyter": {
     "is_executing": true
    },
    "ExecuteTime": {
     "start_time": "2025-08-19T14:22:01.823265Z"
    }
   },
   "cell_type": "code",
   "source": [
    "voting_clf = VotingClassifier(\n",
    "    estimators=[('rf', rf_clf), ('et', et_clf), ('svm', svm_clf)],\n",
    "    voting='hard',\n",
    "    n_jobs=-1\n",
    ")\n",
    "\n",
    "models = {\n",
    "    '随机森林' : rf_clf,\n",
    "    '极端树'   : et_clf,\n",
    "    '向量机'   : svm_clf,\n",
    "    '软投票'   : voting_clf\n",
    "}\n",
    "\n",
    "for name,model in models.items():\n",
    "    model.fit(X_train, y_train)\n",
    "    y_pred =model.predict(X_val)\n",
    "    score = accuracy_score(y_val, y_pred)\n",
    "    print(f\"{name} 验证集准确率: {score:.4f}\")\n"
   ],
   "id": "8a5fad237d4e5975",
   "outputs": [],
   "execution_count": null
  },
  {
   "metadata": {},
   "cell_type": "code",
   "outputs": [],
   "execution_count": null,
   "source": [
    "estimators=[rf_clf, et_clf, svm_clf]\n",
    "\n",
    "X_val_predictions = np.empty((len(X_val), len(estimators)), dtype=np.float32)\n",
    "\n",
    "for index, estimator in enumerate(estimators):\n",
    "    X_val_predictions[:, index] = estimator.predict(X_val)"
   ],
   "id": "68a953f25ee80c43"
  },
  {
   "metadata": {},
   "cell_type": "code",
   "outputs": [],
   "execution_count": null,
   "source": [
    "rnd_forest_blender = RandomForestClassifier(n_estimators=200, oob_score=True, random_state=42)\n",
    "rnd_forest_blender.fit(X_val_predictions, y_val)"
   ],
   "id": "4f0773a976d1c2a0"
  },
  {
   "metadata": {},
   "cell_type": "code",
   "outputs": [],
   "execution_count": null,
   "source": [
    "X_test_predictions = np.empty((len(X_test), len(estimators)), dtype=np.float32)\n",
    "\n",
    "for index, estimator in enumerate(estimators):\n",
    "    X_test_predictions[:, index] = estimator.predict(X_test)"
   ],
   "id": "26617ace4eebc811"
  },
  {
   "metadata": {},
   "cell_type": "code",
   "outputs": [],
   "execution_count": null,
   "source": "y_pred = rnd_forest_blender.predict(X_test_predictions)",
   "id": "9542be16639a5bb0"
  },
  {
   "metadata": {},
   "cell_type": "code",
   "outputs": [],
   "execution_count": null,
   "source": "accuracy_score(y_test, y_pred)",
   "id": "2c6c91bbd0f4413"
  }
 ],
 "metadata": {
  "kernelspec": {
   "display_name": "Python 3",
   "language": "python",
   "name": "python3"
  },
  "language_info": {
   "codemirror_mode": {
    "name": "ipython",
    "version": 2
   },
   "file_extension": ".py",
   "mimetype": "text/x-python",
   "name": "python",
   "nbconvert_exporter": "python",
   "pygments_lexer": "ipython2",
   "version": "2.7.6"
  }
 },
 "nbformat": 4,
 "nbformat_minor": 5
}
