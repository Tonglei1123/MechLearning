{
 "cells": [
  {
   "metadata": {},
   "cell_type": "markdown",
   "source": [
    "## 简答题\n",
    "1. 如果训练集有100万个实例，1.训练决策树（无约束）大致的深度是多少？\n",
    "大约 log₂(1 000 000) ≈ 20 层叶子。\n",
    "\n",
    "2. 通常来说，子节点的基尼杂质是高于还是低于其父节点？是通常更高/更低？还是永远更高/更低？\n",
    "CART 每次分裂都会选使加权基尼杂质之和最小的分割点，因此子节点的加权平均基尼杂质一定小于（或等于）父节点。\n",
    "\n",
    "3. 如果决策树过拟合训练集，减少max_depth是否为一个好主意？\n",
    "如果决策树过拟合训练集，减少max_depth确实可以。\n",
    "\n",
    "4. 如果决策树对训练集欠拟合，尝试缩放输入特征是否为一个好主意？\n",
    "决策树对特征的尺度不敏感，欠拟合应尝试减小正则化。\n",
    "\n",
    "5. 如果在给定的训练集上训练决策树需要一个小时，那么如果将特征数量变为两倍，训练大约需要多少时间？\n",
    "训练时间大约也变为 2 倍。\n",
    "\n",
    "6. 如果在包含100万个实例的训练集上训练决策树需要一个小时，那么在包含1000万个实例的训练集上训练决策树，大概需要多长时间？提示：考虑CART算法的计算复杂度。\n",
    "CART 算法在大规模数据下的复杂度大约是 O(n log n)  ，所以为10log10 =10，因而训练时间大致变为 10 小时 左右。"
   ],
   "id": "c8b56739308b5b88"
  },
  {
   "metadata": {},
   "cell_type": "markdown",
   "source": "## 编程题",
   "id": "d57bc0d1695fa8ab"
  },
  {
   "metadata": {},
   "cell_type": "markdown",
   "source": [
    "1. 为 新月形 数据集训练并微调一棵决策树。\n",
    "\n",
    "a. 使用make_moons(n_samples=10000，noise=0.4)生成一个 新月形 数据集。\n",
    "\n",
    "b. 使用train_test_split()拆分训练集和测试集。\n",
    "\n",
    "c. 使用交叉验证的网格搜索（在GridSearchCV类的帮助下）为Decision-TreeClassifier找到适合的超参数值。提示：尝试max_leaf_nodes的多种值。\n",
    "\n",
    "d. 使用超参数对整个训练集进行训练，并测量模型在测试集上的性能。你应该得到约85%～87%的准确率。"
   ],
   "id": "df859f669d173482"
  },
  {
   "metadata": {},
   "cell_type": "markdown",
   "source": [
    "2. 按照以下步骤种植森林。\n",
    "\n",
    "a.继续之前的练习，生产1000个训练集子集，每个子集包含随机挑选的100个实例。提示：使用Scikit-Learn的ShuffleSplit类来实现。\n",
    "\n",
    "b.使用前面得到的最佳超参数值，在每个子集上训练一棵决策树。在测试集上评估这1000棵决策树。因为训练集更小，所以这些决策树的表现可能比第一棵决策树要差一些，只能达到约80%的精度。\n",
    "\n",
    "c.见证奇迹的时刻到了。用每个测试集实例，生成1000棵决策树的预测，然后仅保留次数最频繁的预测［可以使用SciPy的mode()函数］。这样你在测试集上可获得大多数投票的预测结果。\n",
    "\n",
    "d.评估测试集上的这些预测，你得到的准确率应该比第一个模型更高（高出0.5%～1.5%）。恭喜，你已经训练出了一个随机森林分类器！"
   ],
   "id": "ed6c04b5518d9498"
  },
  {
   "metadata": {},
   "cell_type": "code",
   "outputs": [],
   "execution_count": null,
   "source": "# 为 新月形 数据集训练并微调一棵决策树",
   "id": "c73f731a299a3a99"
  },
  {
   "metadata": {
    "ExecuteTime": {
     "end_time": "2025-08-17T02:51:40.149098Z",
     "start_time": "2025-08-17T02:51:40.127184Z"
    }
   },
   "cell_type": "code",
   "source": [
    "from sklearn.datasets import make_moons\n",
    "from tensorflow.python.ops.math_ops import linspace\n",
    "\n",
    "X, y = make_moons(n_samples=10000, noise=0.4, random_state=42)"
   ],
   "id": "70230be1b615a4dc",
   "outputs": [],
   "execution_count": 6
  },
  {
   "metadata": {
    "ExecuteTime": {
     "end_time": "2025-08-17T02:51:41.073909Z",
     "start_time": "2025-08-17T02:51:41.052492Z"
    }
   },
   "cell_type": "code",
   "source": [
    "from sklearn.model_selection import train_test_split,RandomizedSearchCV\n",
    "X_train, X_test, y_train, y_test = train_test_split(X, y, test_size=0.2, random_state=42)"
   ],
   "id": "7a02875a29ccc56b",
   "outputs": [],
   "execution_count": 7
  },
  {
   "metadata": {
    "ExecuteTime": {
     "end_time": "2025-08-17T03:54:01.993198Z",
     "start_time": "2025-08-17T03:54:00.485483Z"
    }
   },
   "cell_type": "code",
   "source": [
    "from sklearn.tree import DecisionTreeClassifier\n",
    "import numpy as np\n",
    "from sklearn.model_selection import cross_val_score\n",
    "\n",
    "\n",
    "model_decisiontree = DecisionTreeClassifier(max_depth=None,random_state=42)\n",
    "\n",
    "\n",
    "params = {\n",
    "    'max_leaf_nodes': np.arange(2, 100),\n",
    "    'min_samples_split': np.arange(2, 5),\n",
    "}\n",
    "\n",
    "rand = RandomizedSearchCV(\n",
    "    model_decisiontree,\n",
    "    params,\n",
    "    n_iter=50,\n",
    "    cv=5,\n",
    "    random_state=42,\n",
    "    verbose=1,\n",
    "    n_jobs=-1\n",
    ")\n",
    "\n",
    "rand.fit(X_train, y_train)\n",
    "best_tree = rand.best_estimator_\n",
    "y_pred = best_tree.predict(X_test)\n",
    "\n",
    "final_scores =cross_val_score(best_tree, X_test, y_test, cv=5)\n",
    "print(f\"准确率: {final_scores.mean():.4f} ± {final_scores.std():.4f}\")\n",
    "print(f\"最佳参数: {rand.best_params_}\")\n"
   ],
   "id": "8f00bd39c554702e",
   "outputs": [
    {
     "name": "stdout",
     "output_type": "stream",
     "text": [
      "Fitting 5 folds for each of 50 candidates, totalling 250 fits\n",
      "准确率: 0.8525 ± 0.0079\n",
      "最佳参数: {'min_samples_split': 2, 'max_leaf_nodes': 23}\n"
     ]
    }
   ],
   "execution_count": 19
  },
  {
   "metadata": {
    "ExecuteTime": {
     "end_time": "2025-08-17T04:23:59.165796Z",
     "start_time": "2025-08-17T04:12:56.835598Z"
    }
   },
   "cell_type": "code",
   "source": [
    "# 用SVM法\n",
    "from sklearn.ensemble import BaggingClassifier\n",
    "from sklearn.pipeline import Pipeline\n",
    "from sklearn.preprocessing import StandardScaler\n",
    "from sklearn.svm import SVC\n",
    "from sklearn.model_selection import GridSearchCV\n",
    "\n",
    "\n",
    "model_svm = Pipeline([\n",
    "    ('scaler', StandardScaler()),\n",
    "    ('svc', SVC(kernel='rbf'))\n",
    "])\n",
    "\n",
    "params = {\n",
    "    'svc__gamma': np.linspace(0.5,5.0,10),\n",
    "    'svc__C':  np.linspace(1,20,20),\n",
    "}\n",
    "\n",
    "grid = GridSearchCV(\n",
    "    model_svm,\n",
    "    params,\n",
    "    cv=5,\n",
    "    n_jobs=-1,\n",
    "    verbose=1\n",
    ")\n",
    "\n",
    "grid.fit(X_train, y_train)\n",
    "best_models = grid.best_estimator_\n",
    "y_pred = best_models.predict(X_test)\n",
    "\n",
    "final_scores1 =cross_val_score(best_models, X_test, y_test, cv=5)\n",
    "print(f\"准确率: {final_scores1.mean():.4f} ± {final_scores1.std():.4f}\")\n",
    "print(f\"最佳参数: {grid.best_params_}\")"
   ],
   "id": "f8792ef93042b91b",
   "outputs": [
    {
     "name": "stdout",
     "output_type": "stream",
     "text": [
      "Fitting 5 folds for each of 200 candidates, totalling 1000 fits\n",
      "准确率: 0.8660 ± 0.0183\n",
      "最佳参数: {'svc__C': 18.0, 'svc__gamma': 2.0}\n"
     ]
    }
   ],
   "execution_count": 28
  },
  {
   "metadata": {
    "ExecuteTime": {
     "end_time": "2025-08-17T04:10:51.141333Z",
     "start_time": "2025-08-17T04:10:33.361432Z"
    }
   },
   "cell_type": "code",
   "source": [
    "# 用 Bagging\n",
    "base_tree = DecisionTreeClassifier(max_depth=None, random_state=42)\n",
    "\n",
    "bagging = BaggingClassifier(\n",
    "    estimator=base_tree,      # 基学习器\n",
    "    n_estimators=500,         # 树的数量\n",
    "    max_samples=0.8,          # 每棵树用 80% 样本做自助采样\n",
    "    max_features=1.0,         # 每棵树用全部特征\n",
    "    n_jobs=-1,\n",
    "    random_state=42\n",
    ")\n",
    "\n",
    "scores = cross_val_score(bagging, X, y, cv=5, n_jobs=-1)\n",
    "print(f\"Bagging + 决策树准确率: {scores.mean():.4f} ± {scores.std():.4f}\")\n"
   ],
   "id": "ec0c8b1fc607fc74",
   "outputs": [
    {
     "name": "stdout",
     "output_type": "stream",
     "text": [
      "Bagging + 决策树准确率: 0.8452 ± 0.0050\n"
     ]
    }
   ],
   "execution_count": 25
  },
  {
   "metadata": {},
   "cell_type": "code",
   "outputs": [],
   "execution_count": null,
   "source": "#按照以下步骤种植森林。",
   "id": "3f7c0d384d8077a6"
  },
  {
   "metadata": {
    "ExecuteTime": {
     "end_time": "2025-08-17T05:31:15.143294Z",
     "start_time": "2025-08-17T05:31:14.943980Z"
    }
   },
   "cell_type": "code",
   "source": [
    "from sklearn.model_selection import ShuffleSplit\n",
    "from sklearn.metrics import accuracy_score\n",
    "\n",
    "n_trees = 1000\n",
    "n_instances = 100\n",
    "\n",
    "mini_sets = []\n",
    "\n",
    "rs = ShuffleSplit(n_splits=n_trees, test_size=len(X_train) - n_instances, random_state=42)\n",
    "for mini_train_index, mini_test_index in rs.split(X_train):\n",
    "    X_mini_train = X_train[mini_train_index]\n",
    "    y_mini_train = y_train[mini_train_index]\n",
    "    mini_sets.append((X_mini_train, y_mini_train))"
   ],
   "id": "e9f2cc638fe4cd7a",
   "outputs": [],
   "execution_count": 29
  },
  {
   "metadata": {
    "ExecuteTime": {
     "end_time": "2025-08-17T05:37:00.454503Z",
     "start_time": "2025-08-17T05:36:58.160129Z"
    }
   },
   "cell_type": "code",
   "source": [
    "from sklearn.base import clone\n",
    "\n",
    "forest = [clone(rand.best_estimator_) for _ in range(n_trees)]\n",
    "\n",
    "accuracy_scores = []\n",
    "\n",
    "for tree, (X_mini_train, y_mini_train) in zip(forest, mini_sets):\n",
    "    tree.fit(X_mini_train, y_mini_train)\n",
    "\n",
    "    y_pred = tree.predict(X_test)\n",
    "    accuracy_scores.append(accuracy_score(y_test, y_pred))\n",
    "\n",
    "np.mean(accuracy_scores)"
   ],
   "id": "65eba5e58e5c97d2",
   "outputs": [
    {
     "data": {
      "text/plain": [
       "0.79884"
      ]
     },
     "execution_count": 31,
     "metadata": {},
     "output_type": "execute_result"
    }
   ],
   "execution_count": 31
  },
  {
   "metadata": {
    "ExecuteTime": {
     "end_time": "2025-08-17T05:37:04.861474Z",
     "start_time": "2025-08-17T05:37:04.439721Z"
    }
   },
   "cell_type": "code",
   "source": [
    "Y_pred = np.empty([n_trees, len(X_test)], dtype=np.uint8)\n",
    "\n",
    "for tree_index, tree in enumerate(forest):\n",
    "    Y_pred[tree_index] = tree.predict(X_test)\n",
    "\n",
    "from scipy.stats import mode\n",
    "\n",
    "y_pred_majority_votes, n_votes = mode(Y_pred, axis=0)\n"
   ],
   "id": "8469fe8fa652731b",
   "outputs": [],
   "execution_count": 32
  },
  {
   "metadata": {
    "ExecuteTime": {
     "end_time": "2025-08-17T05:37:06.017400Z",
     "start_time": "2025-08-17T05:37:06.001580Z"
    }
   },
   "cell_type": "code",
   "source": "accuracy_score(y_test, y_pred_majority_votes.reshape([-1]))",
   "id": "b410e8ac2d288d5f",
   "outputs": [
    {
     "data": {
      "text/plain": [
       "0.8735"
      ]
     },
     "execution_count": 33,
     "metadata": {},
     "output_type": "execute_result"
    }
   ],
   "execution_count": 33
  }
 ],
 "metadata": {
  "kernelspec": {
   "display_name": "Python 3",
   "language": "python",
   "name": "python3"
  },
  "language_info": {
   "codemirror_mode": {
    "name": "ipython",
    "version": 2
   },
   "file_extension": ".py",
   "mimetype": "text/x-python",
   "name": "python",
   "nbconvert_exporter": "python",
   "pygments_lexer": "ipython2",
   "version": "2.7.6"
  }
 },
 "nbformat": 4,
 "nbformat_minor": 5
}
