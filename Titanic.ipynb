{
 "cells": [
  {
   "metadata": {
    "ExecuteTime": {
     "end_time": "2025-08-03T08:42:55.080942Z",
     "start_time": "2025-08-03T08:42:55.078423Z"
    }
   },
   "cell_type": "code",
   "source": [
    "import matplotlib.pyplot as plt\n",
    "import matplotlib\n",
    "from matplotlib.pyplot import subplot\n",
    "\n",
    "# 设置中文字体（SimHei）\n",
    "matplotlib.rcParams['font.family'] = 'SimHei'\n",
    "# 防止负号显示为方块\n",
    "matplotlib.rcParams['axes.unicode_minus'] = False\n"
   ],
   "id": "3a823e959e5da48a",
   "outputs": [],
   "execution_count": 1
  },
  {
   "metadata": {
    "ExecuteTime": {
     "end_time": "2025-08-03T08:44:09.354812Z",
     "start_time": "2025-08-03T08:44:08.177197Z"
    }
   },
   "cell_type": "code",
   "source": [
    "#Scikit-learn分类任务完整流程指南\n",
    "import numpy as np\n",
    "import pandas as pd\n",
    "from sklearn.model_selection import train_test_split, GridSearchCV, StratifiedKFold, cross_val_score, cross_val_predict\n",
    "from sklearn.preprocessing import StandardScaler, OneHotEncoder, FunctionTransformer\n",
    "from sklearn.compose import ColumnTransformer\n",
    "from sklearn.pipeline import Pipeline, make_pipeline\n",
    "from sklearn.ensemble import RandomForestClassifier, GradientBoostingClassifier, AdaBoostClassifier\n",
    "from sklearn.linear_model import LogisticRegression, SGDClassifier\n",
    "from sklearn.metrics import mean_squared_error, r2_score\n",
    "from sklearn.model_selection import GridSearchCV\n",
    "from sklearn.metrics import accuracy_score, classification_report\n",
    "from sklearn.tree import DecisionTreeClassifier\n",
    "from sklearn.svm import SVC\n",
    "from sklearn.neighbors import KNeighborsClassifier\n",
    "from sklearn.naive_bayes import GaussianNB\n",
    "from sklearn.metrics import accuracy_score, precision_score, recall_score, f1_score, roc_auc_score, confusion_matrix, ConfusionMatrixDisplay\n",
    "from sklearn.impute import SimpleImputer\n",
    "from sklearn.feature_selection import SelectFromModel\n",
    "import matplotlib.pyplot as plt\n",
    "import seaborn as sns\n",
    "from matplotlib import rcParams\n",
    "import joblib\n",
    "import time"
   ],
   "id": "initial_id",
   "outputs": [],
   "execution_count": 2
  },
  {
   "metadata": {
    "ExecuteTime": {
     "end_time": "2025-08-03T08:44:09.750389Z",
     "start_time": "2025-08-03T08:44:09.720553Z"
    }
   },
   "cell_type": "code",
   "source": [
    "from pathlib import Path\n",
    "train_data= pd.read_csv(Path(\"datasets/titanic/train.csv\"))\n",
    "test_data= pd.read_csv(Path(\"datasets/titanic/test.csv\"))\n"
   ],
   "id": "6e8550f8f44047a8",
   "outputs": [],
   "execution_count": 3
  },
  {
   "metadata": {
    "ExecuteTime": {
     "end_time": "2025-08-03T04:33:49.273859Z",
     "start_time": "2025-08-03T04:33:49.252990Z"
    }
   },
   "cell_type": "code",
   "source": "train_data.head()\n",
   "id": "a7b4870d3c1174d",
   "outputs": [
    {
     "data": {
      "text/plain": [
       "   PassengerId  Survived  Pclass  \\\n",
       "0            1         0       3   \n",
       "1            2         1       1   \n",
       "2            3         1       3   \n",
       "3            4         1       1   \n",
       "4            5         0       3   \n",
       "\n",
       "                                                Name     Sex   Age  SibSp  \\\n",
       "0                            Braund, Mr. Owen Harris    male  22.0      1   \n",
       "1  Cumings, Mrs. John Bradley (Florence Briggs Th...  female  38.0      1   \n",
       "2                             Heikkinen, Miss. Laina  female  26.0      0   \n",
       "3       Futrelle, Mrs. Jacques Heath (Lily May Peel)  female  35.0      1   \n",
       "4                           Allen, Mr. William Henry    male  35.0      0   \n",
       "\n",
       "   Parch            Ticket     Fare Cabin Embarked  \n",
       "0      0         A/5 21171   7.2500   NaN        S  \n",
       "1      0          PC 17599  71.2833   C85        C  \n",
       "2      0  STON/O2. 3101282   7.9250   NaN        S  \n",
       "3      0            113803  53.1000  C123        S  \n",
       "4      0            373450   8.0500   NaN        S  "
      ],
      "text/html": [
       "<div>\n",
       "<style scoped>\n",
       "    .dataframe tbody tr th:only-of-type {\n",
       "        vertical-align: middle;\n",
       "    }\n",
       "\n",
       "    .dataframe tbody tr th {\n",
       "        vertical-align: top;\n",
       "    }\n",
       "\n",
       "    .dataframe thead th {\n",
       "        text-align: right;\n",
       "    }\n",
       "</style>\n",
       "<table border=\"1\" class=\"dataframe\">\n",
       "  <thead>\n",
       "    <tr style=\"text-align: right;\">\n",
       "      <th></th>\n",
       "      <th>PassengerId</th>\n",
       "      <th>Survived</th>\n",
       "      <th>Pclass</th>\n",
       "      <th>Name</th>\n",
       "      <th>Sex</th>\n",
       "      <th>Age</th>\n",
       "      <th>SibSp</th>\n",
       "      <th>Parch</th>\n",
       "      <th>Ticket</th>\n",
       "      <th>Fare</th>\n",
       "      <th>Cabin</th>\n",
       "      <th>Embarked</th>\n",
       "    </tr>\n",
       "  </thead>\n",
       "  <tbody>\n",
       "    <tr>\n",
       "      <th>0</th>\n",
       "      <td>1</td>\n",
       "      <td>0</td>\n",
       "      <td>3</td>\n",
       "      <td>Braund, Mr. Owen Harris</td>\n",
       "      <td>male</td>\n",
       "      <td>22.0</td>\n",
       "      <td>1</td>\n",
       "      <td>0</td>\n",
       "      <td>A/5 21171</td>\n",
       "      <td>7.2500</td>\n",
       "      <td>NaN</td>\n",
       "      <td>S</td>\n",
       "    </tr>\n",
       "    <tr>\n",
       "      <th>1</th>\n",
       "      <td>2</td>\n",
       "      <td>1</td>\n",
       "      <td>1</td>\n",
       "      <td>Cumings, Mrs. John Bradley (Florence Briggs Th...</td>\n",
       "      <td>female</td>\n",
       "      <td>38.0</td>\n",
       "      <td>1</td>\n",
       "      <td>0</td>\n",
       "      <td>PC 17599</td>\n",
       "      <td>71.2833</td>\n",
       "      <td>C85</td>\n",
       "      <td>C</td>\n",
       "    </tr>\n",
       "    <tr>\n",
       "      <th>2</th>\n",
       "      <td>3</td>\n",
       "      <td>1</td>\n",
       "      <td>3</td>\n",
       "      <td>Heikkinen, Miss. Laina</td>\n",
       "      <td>female</td>\n",
       "      <td>26.0</td>\n",
       "      <td>0</td>\n",
       "      <td>0</td>\n",
       "      <td>STON/O2. 3101282</td>\n",
       "      <td>7.9250</td>\n",
       "      <td>NaN</td>\n",
       "      <td>S</td>\n",
       "    </tr>\n",
       "    <tr>\n",
       "      <th>3</th>\n",
       "      <td>4</td>\n",
       "      <td>1</td>\n",
       "      <td>1</td>\n",
       "      <td>Futrelle, Mrs. Jacques Heath (Lily May Peel)</td>\n",
       "      <td>female</td>\n",
       "      <td>35.0</td>\n",
       "      <td>1</td>\n",
       "      <td>0</td>\n",
       "      <td>113803</td>\n",
       "      <td>53.1000</td>\n",
       "      <td>C123</td>\n",
       "      <td>S</td>\n",
       "    </tr>\n",
       "    <tr>\n",
       "      <th>4</th>\n",
       "      <td>5</td>\n",
       "      <td>0</td>\n",
       "      <td>3</td>\n",
       "      <td>Allen, Mr. William Henry</td>\n",
       "      <td>male</td>\n",
       "      <td>35.0</td>\n",
       "      <td>0</td>\n",
       "      <td>0</td>\n",
       "      <td>373450</td>\n",
       "      <td>8.0500</td>\n",
       "      <td>NaN</td>\n",
       "      <td>S</td>\n",
       "    </tr>\n",
       "  </tbody>\n",
       "</table>\n",
       "</div>"
      ]
     },
     "execution_count": 5,
     "metadata": {},
     "output_type": "execute_result"
    }
   ],
   "execution_count": 5
  },
  {
   "metadata": {
    "ExecuteTime": {
     "end_time": "2025-08-02T02:07:40.955877Z",
     "start_time": "2025-08-02T02:07:40.948298Z"
    }
   },
   "cell_type": "code",
   "source": "train_data.info()",
   "id": "e5280ffe3a8f7eb5",
   "outputs": [
    {
     "name": "stdout",
     "output_type": "stream",
     "text": [
      "<class 'pandas.core.frame.DataFrame'>\n",
      "RangeIndex: 891 entries, 0 to 890\n",
      "Data columns (total 12 columns):\n",
      " #   Column       Non-Null Count  Dtype  \n",
      "---  ------       --------------  -----  \n",
      " 0   PassengerId  891 non-null    int64  \n",
      " 1   Survived     891 non-null    int64  \n",
      " 2   Pclass       891 non-null    int64  \n",
      " 3   Name         891 non-null    object \n",
      " 4   Sex          891 non-null    object \n",
      " 5   Age          714 non-null    float64\n",
      " 6   SibSp        891 non-null    int64  \n",
      " 7   Parch        891 non-null    int64  \n",
      " 8   Ticket       891 non-null    object \n",
      " 9   Fare         891 non-null    float64\n",
      " 10  Cabin        204 non-null    object \n",
      " 11  Embarked     889 non-null    object \n",
      "dtypes: float64(2), int64(5), object(5)\n",
      "memory usage: 83.7+ KB\n"
     ]
    }
   ],
   "execution_count": 14
  },
  {
   "metadata": {
    "ExecuteTime": {
     "end_time": "2025-08-02T02:10:46.534123Z",
     "start_time": "2025-08-02T02:10:46.529251Z"
    }
   },
   "cell_type": "code",
   "source": [
    "print(\"\\n缺失值统计:\")\n",
    "print(train_data.isnull().sum())"
   ],
   "id": "ac2aeec52b8e3697",
   "outputs": [
    {
     "name": "stdout",
     "output_type": "stream",
     "text": [
      "\n",
      "缺失值统计:\n",
      "PassengerId      0\n",
      "Survived         0\n",
      "Pclass           0\n",
      "Name             0\n",
      "Sex              0\n",
      "Age            177\n",
      "SibSp            0\n",
      "Parch            0\n",
      "Ticket           0\n",
      "Fare             0\n",
      "Cabin          687\n",
      "Embarked         2\n",
      "dtype: int64\n"
     ]
    }
   ],
   "execution_count": 21
  },
  {
   "metadata": {
    "ExecuteTime": {
     "end_time": "2025-08-02T02:13:10.167432Z",
     "start_time": "2025-08-02T02:13:10.163439Z"
    }
   },
   "cell_type": "code",
   "source": [
    "# 特征选择与目标变量定义\n",
    "X = train_data.drop(['Survived','PassengerId', 'Name', 'Ticket', 'Cabin'], axis=1)\n",
    "y = train_data[\"Survived\"]\n"
   ],
   "id": "3b5baca10a33b9ec",
   "outputs": [],
   "execution_count": 22
  },
  {
   "metadata": {
    "ExecuteTime": {
     "end_time": "2025-08-02T02:35:10.018751Z",
     "start_time": "2025-08-02T02:35:10.014613Z"
    }
   },
   "cell_type": "code",
   "source": [
    "# 划分训练集和测试集\n",
    "X_train, X_test, y_train, y_test = train_test_split(X, y, test_size=0.2,\n",
    "                                                    random_state=42\n",
    ")"
   ],
   "id": "f59ce076dcda1fb",
   "outputs": [],
   "execution_count": 30
  },
  {
   "metadata": {
    "ExecuteTime": {
     "end_time": "2025-08-02T02:39:35.559308Z",
     "start_time": "2025-08-02T02:39:35.556203Z"
    }
   },
   "cell_type": "code",
   "source": [
    "# 定义数值和类别特征\n",
    "num_cols = ['Age', 'Fare', 'SibSp', 'Parch']\n",
    "cat_cols = ['Pclass', 'Sex', 'Embarked'] #Pclass为舱室等级，与num没有关系\n"
   ],
   "id": "942305aa935d2061",
   "outputs": [],
   "execution_count": 33
  },
  {
   "metadata": {
    "ExecuteTime": {
     "end_time": "2025-08-02T02:42:50.216873Z",
     "start_time": "2025-08-02T02:42:50.212937Z"
    }
   },
   "cell_type": "code",
   "source": [
    "#数据预处理\n",
    "num = Pipeline([\n",
    "        (\"imputer\", SimpleImputer(strategy=\"median\")),\n",
    "        (\"scaler\", StandardScaler())\n",
    "    ])\n",
    "\n",
    "cat = Pipeline([\n",
    "        (\"imputer\", SimpleImputer(strategy=\"most_frequent\")),\n",
    "        (\"encoder\", OneHotEncoder(handle_unknown='ignore')),\n",
    "    ])\n",
    "\n",
    "preprocessor = ColumnTransformer(\n",
    "    [\n",
    "        (\"num\", num, num_cols),\n",
    "        (\"cat\", cat, cat_cols),\n",
    "    ]\n",
    ")"
   ],
   "id": "882976495e3492dd",
   "outputs": [],
   "execution_count": 40
  },
  {
   "metadata": {
    "ExecuteTime": {
     "end_time": "2025-08-02T03:46:54.333794Z",
     "start_time": "2025-08-02T03:46:54.329523Z"
    }
   },
   "cell_type": "code",
   "source": [
    "# 定义模型管道\n",
    "models  ={\n",
    "      '逻辑回归': Pipeline([\n",
    "          ('preprocessor', preprocessor),\n",
    "          ('classifier', LogisticRegression(max_iter=1000, random_state=42))\n",
    "       ]),\n",
    "       '随机森林': Pipeline([\n",
    "           ('preprocessor', preprocessor),\n",
    "           ('classifier', RandomForestClassifier(random_state=42))\n",
    "       ]),\n",
    "}\n",
    "\n"
   ],
   "id": "139f2214d699efb5",
   "outputs": [],
   "execution_count": 50
  },
  {
   "metadata": {
    "ExecuteTime": {
     "end_time": "2025-08-02T04:35:38.999458Z",
     "start_time": "2025-08-02T04:35:38.870093Z"
    }
   },
   "cell_type": "code",
   "source": [
    "#训练 + 评估\n",
    "def evaluate(name, model, X_tr, y_tr, X_te, y_te):\n",
    "    model.fit(X_tr, y_tr)\n",
    "    y_pred = model.predict(X_te)\n",
    "    print(f\"{name} 验证集准确率: {accuracy_score(y_te, y_pred):.4f}\")\n",
    "    print(classification_report(y_te, y_pred))\n",
    "    print(\"-\" * 100)\n",
    "\n",
    "for name, model in models.items():\n",
    "    evaluate(name, model, X_train, y_train, X_test, y_test)"
   ],
   "id": "2cc5270f7021ebd2",
   "outputs": [
    {
     "name": "stdout",
     "output_type": "stream",
     "text": [
      "逻辑回归 验证集准确率: 0.7989\n",
      "              precision    recall  f1-score   support\n",
      "\n",
      "           0       0.81      0.86      0.83       105\n",
      "           1       0.78      0.72      0.75        74\n",
      "\n",
      "    accuracy                           0.80       179\n",
      "   macro avg       0.80      0.79      0.79       179\n",
      "weighted avg       0.80      0.80      0.80       179\n",
      "\n",
      "----------------------------------------------------------------------------------------------------\n",
      "随机森林 验证集准确率: 0.8268\n",
      "              precision    recall  f1-score   support\n",
      "\n",
      "           0       0.84      0.88      0.86       105\n",
      "           1       0.81      0.76      0.78        74\n",
      "\n",
      "    accuracy                           0.83       179\n",
      "   macro avg       0.82      0.82      0.82       179\n",
      "weighted avg       0.83      0.83      0.83       179\n",
      "\n",
      "----------------------------------------------------------------------------------------------------\n"
     ]
    }
   ],
   "execution_count": 69
  },
  {
   "metadata": {
    "ExecuteTime": {
     "end_time": "2025-08-02T04:35:40.781634Z",
     "start_time": "2025-08-02T04:35:40.778689Z"
    }
   },
   "cell_type": "code",
   "source": [
    "#param_grid调优\n",
    "param_grids = {\n",
    "    '逻辑回归': {\n",
    "        'classifier__C': [0.01, 0.1, 1, 10],\n",
    "        'classifier__penalty': ['l2'],\n",
    "        'classifier__solver': ['liblinear']\n",
    "    },\n",
    "    '随机森林': {\n",
    "        'classifier__n_estimators': [100, 200, 300],\n",
    "        'classifier__max_depth': [None, 3, 5, 7],\n",
    "        'classifier__min_samples_split': [2, 5, 10],\n",
    "        'classifier__min_samples_leaf': [1, 2, 4]\n",
    "    }\n",
    "}\n"
   ],
   "id": "121033386ef68249",
   "outputs": [],
   "execution_count": 70
  },
  {
   "metadata": {
    "ExecuteTime": {
     "end_time": "2025-08-02T04:37:55.567226Z",
     "start_time": "2025-08-02T04:37:37.781139Z"
    }
   },
   "cell_type": "code",
   "source": [
    "from sklearn.metrics import accuracy_score, classification_report\n",
    "\n",
    "def evaluate(name, model, X_tr, y_tr, X_te, y_te, param_grid):\n",
    "    grid = GridSearchCV(\n",
    "        model,\n",
    "        param_grid,\n",
    "        cv=10,\n",
    "        n_jobs=-1,\n",
    "        scoring='accuracy',\n",
    "        verbose=2\n",
    "    )\n",
    "    grid.fit(X_tr, y_tr)\n",
    "\n",
    "    best_model = grid.best_estimator_\n",
    "    y_pred = best_model.predict(X_te)\n",
    "\n",
    "    print(f\"{name} 验证集准确率: {accuracy_score(y_te, y_pred):.4f}\")\n",
    "    print(classification_report(y_te, y_pred))\n",
    "    print(\"-\" * 100)\n",
    "\n",
    "# 直接调用，无需 best_models\n",
    "for name, model in models.items():\n",
    "    evaluate(name, model, X_train, y_train, X_test, y_test, param_grids[name])"
   ],
   "id": "49d2ae2a2200f67a",
   "outputs": [
    {
     "name": "stdout",
     "output_type": "stream",
     "text": [
      "Fitting 10 folds for each of 4 candidates, totalling 40 fits\n",
      "逻辑回归 验证集准确率: 0.7989\n",
      "              precision    recall  f1-score   support\n",
      "\n",
      "           0       0.81      0.87      0.83       105\n",
      "           1       0.79      0.70      0.74        74\n",
      "\n",
      "    accuracy                           0.80       179\n",
      "   macro avg       0.80      0.78      0.79       179\n",
      "weighted avg       0.80      0.80      0.80       179\n",
      "\n",
      "----------------------------------------------------------------------------------------------------\n",
      "Fitting 10 folds for each of 108 candidates, totalling 1080 fits\n",
      "随机森林 验证集准确率: 0.8101\n",
      "              precision    recall  f1-score   support\n",
      "\n",
      "           0       0.80      0.90      0.85       105\n",
      "           1       0.83      0.68      0.75        74\n",
      "\n",
      "    accuracy                           0.81       179\n",
      "   macro avg       0.82      0.79      0.80       179\n",
      "weighted avg       0.81      0.81      0.81       179\n",
      "\n",
      "----------------------------------------------------------------------------------------------------\n"
     ]
    }
   ],
   "execution_count": 72
  },
  {
   "metadata": {},
   "cell_type": "code",
   "outputs": [],
   "execution_count": null,
   "source": "",
   "id": "dc795717a98ab134"
  },
  {
   "metadata": {
    "ExecuteTime": {
     "end_time": "2025-08-03T04:04:11.196053Z",
     "start_time": "2025-08-03T04:04:11.191874Z"
    }
   },
   "cell_type": "code",
   "source": [
    "#pansas探索\n",
    "import pandas as pd\n",
    "import matplotlib.pyplot as plt\n",
    "import seaborn as sns\n",
    "\n"
   ],
   "id": "8691164f4420f648",
   "outputs": [],
   "execution_count": 52
  },
  {
   "metadata": {
    "ExecuteTime": {
     "end_time": "2025-08-03T04:04:27.048811Z",
     "start_time": "2025-08-03T04:04:27.028471Z"
    }
   },
   "cell_type": "code",
   "source": [
    "# 基本数据概览\n",
    "print(\"数据集形状:\", train_data.shape)\n",
    "print(\"\\n前5行数据:\")\n",
    "print(train_data.head())\n",
    "print(\"\\n数据统计信息:\")\n",
    "print(train_data.describe())\n"
   ],
   "id": "4614925355259bd7",
   "outputs": [
    {
     "name": "stdout",
     "output_type": "stream",
     "text": [
      "数据集形状: (891, 15)\n",
      "\n",
      "前5行数据:\n",
      "   PassengerId  Survived  Pclass  \\\n",
      "0            1         0       3   \n",
      "1            2         1       1   \n",
      "2            3         1       3   \n",
      "3            4         1       1   \n",
      "4            5         0       3   \n",
      "\n",
      "                                                Name     Sex   Age  SibSp  \\\n",
      "0                            Braund, Mr. Owen Harris    male  22.0      1   \n",
      "1  Cumings, Mrs. John Bradley (Florence Briggs Th...  female  38.0      1   \n",
      "2                             Heikkinen, Miss. Laina  female  26.0      0   \n",
      "3       Futrelle, Mrs. Jacques Heath (Lily May Peel)  female  35.0      1   \n",
      "4                           Allen, Mr. William Henry    male  35.0      0   \n",
      "\n",
      "   Parch            Ticket     Fare Cabin Embarked  child  Child  FamilySize  \n",
      "0      0         A/5 21171   7.2500   NaN        S  False  False           2  \n",
      "1      0          PC 17599  71.2833   C85        C  False  False           2  \n",
      "2      0  STON/O2. 3101282   7.9250   NaN        S  False  False           1  \n",
      "3      0            113803  53.1000  C123        S  False  False           2  \n",
      "4      0            373450   8.0500   NaN        S  False  False           1  \n",
      "\n",
      "数据统计信息:\n",
      "       PassengerId    Survived      Pclass         Age       SibSp  \\\n",
      "count   891.000000  891.000000  891.000000  891.000000  891.000000   \n",
      "mean    446.000000    0.383838    2.308642   29.361579    0.523008   \n",
      "std     257.353842    0.486592    0.836071   13.019705    1.102743   \n",
      "min       1.000000    0.000000    1.000000    0.416700    0.000000   \n",
      "25%     223.500000    0.000000    2.000000   22.000000    0.000000   \n",
      "50%     446.000000    0.000000    3.000000   28.000000    0.000000   \n",
      "75%     668.500000    1.000000    3.000000   35.000000    1.000000   \n",
      "max     891.000000    1.000000    3.000000   80.000000    8.000000   \n",
      "\n",
      "            Parch        Fare  FamilySize  \n",
      "count  891.000000  891.000000  891.000000  \n",
      "mean     0.381594   32.204208    1.904602  \n",
      "std      0.806057   49.693429    1.613459  \n",
      "min      0.000000    0.000000    1.000000  \n",
      "25%      0.000000    7.910400    1.000000  \n",
      "50%      0.000000   14.454200    1.000000  \n",
      "75%      0.000000   31.000000    2.000000  \n",
      "max      6.000000  512.329200   11.000000  \n"
     ]
    }
   ],
   "execution_count": 53
  },
  {
   "metadata": {
    "ExecuteTime": {
     "end_time": "2025-08-03T04:04:29.962215Z",
     "start_time": "2025-08-03T04:04:29.955396Z"
    }
   },
   "cell_type": "code",
   "source": [
    "# 性别与存活率关系\n",
    "Survived_gender = train_data.groupby('Sex')['Survived'].mean()\n",
    "Survived_gender"
   ],
   "id": "4cde48b703b0035c",
   "outputs": [
    {
     "data": {
      "text/plain": [
       "Sex\n",
       "female    0.742038\n",
       "male      0.188908\n",
       "Name: Survived, dtype: float64"
      ]
     },
     "execution_count": 54,
     "metadata": {},
     "output_type": "execute_result"
    }
   ],
   "execution_count": 54
  },
  {
   "metadata": {
    "ExecuteTime": {
     "end_time": "2025-08-03T03:09:42.741776Z",
     "start_time": "2025-08-03T03:09:42.735769Z"
    }
   },
   "cell_type": "code",
   "source": [
    "# 船舱等级分析\n",
    "Survival_Pclass = train_data.groupby('Pclass')['Survived'].mean()\n",
    "Survival_Pclass"
   ],
   "id": "7a09b335f15847ff",
   "outputs": [
    {
     "data": {
      "text/plain": [
       "Pclass\n",
       "1    0.629630\n",
       "2    0.472826\n",
       "3    0.242363\n",
       "Name: Survived, dtype: float64"
      ]
     },
     "execution_count": 14,
     "metadata": {},
     "output_type": "execute_result"
    }
   ],
   "execution_count": 14
  },
  {
   "metadata": {
    "ExecuteTime": {
     "end_time": "2025-08-03T03:49:41.152120Z",
     "start_time": "2025-08-03T03:49:41.143732Z"
    }
   },
   "cell_type": "code",
   "source": "train_data['Age'].fillna(train_data['Age'].median())\n",
   "id": "4c18ff6b0701aca4",
   "outputs": [
    {
     "data": {
      "text/plain": [
       "0      22.0\n",
       "1      38.0\n",
       "2      26.0\n",
       "3      35.0\n",
       "4      35.0\n",
       "       ... \n",
       "886    27.0\n",
       "887    19.0\n",
       "888    28.0\n",
       "889    26.0\n",
       "890    32.0\n",
       "Name: Age, Length: 891, dtype: float64"
      ]
     },
     "execution_count": 47,
     "metadata": {},
     "output_type": "execute_result"
    }
   ],
   "execution_count": 47
  },
  {
   "metadata": {
    "ExecuteTime": {
     "end_time": "2025-08-03T03:30:10.862156Z",
     "start_time": "2025-08-03T03:30:10.856125Z"
    }
   },
   "cell_type": "code",
   "source": [
    "# 性别分别为男性，女性年龄的中位数\n",
    "Gender_Women = train_data[train_data[\"Sex\"]==\"female\"][\"Age\"].agg(['mean','median'])\n",
    "Gender_Man = train_data[train_data[\"Sex\"]==\"male\"][\"Age\"].agg(['mean','median'])\n",
    "print(f\"女性：{Gender_Women} 男性: {Gender_Man}\")\n"
   ],
   "id": "656d41e215f6ee19",
   "outputs": [
    {
     "name": "stdout",
     "output_type": "stream",
     "text": [
      "女性：mean      27.915709\n",
      "median    27.000000\n",
      "Name: Age, dtype: float64 男性: mean      30.726637\n",
      "median    29.000000\n",
      "Name: Age, dtype: float64\n"
     ]
    }
   ],
   "execution_count": 33
  },
  {
   "metadata": {
    "ExecuteTime": {
     "end_time": "2025-08-03T03:16:48.933538Z",
     "start_time": "2025-08-03T03:16:48.926038Z"
    }
   },
   "cell_type": "code",
   "source": [
    "# 儿童存活率分析\n",
    "train_data['Child'] = train_data['Age'] < 18\n",
    "Survival_Child = train_data.groupby('Child')['Survived'].agg(\n",
    "    ['mean', 'median']\n",
    ")\n",
    "Survival_Child"
   ],
   "id": "968a189b722c5752",
   "outputs": [
    {
     "data": {
      "text/plain": [
       "           mean  median\n",
       "Child                  \n",
       "False  0.361183     0.0\n",
       "True   0.539823     1.0"
      ],
      "text/html": [
       "<div>\n",
       "<style scoped>\n",
       "    .dataframe tbody tr th:only-of-type {\n",
       "        vertical-align: middle;\n",
       "    }\n",
       "\n",
       "    .dataframe tbody tr th {\n",
       "        vertical-align: top;\n",
       "    }\n",
       "\n",
       "    .dataframe thead th {\n",
       "        text-align: right;\n",
       "    }\n",
       "</style>\n",
       "<table border=\"1\" class=\"dataframe\">\n",
       "  <thead>\n",
       "    <tr style=\"text-align: right;\">\n",
       "      <th></th>\n",
       "      <th>mean</th>\n",
       "      <th>median</th>\n",
       "    </tr>\n",
       "    <tr>\n",
       "      <th>Child</th>\n",
       "      <th></th>\n",
       "      <th></th>\n",
       "    </tr>\n",
       "  </thead>\n",
       "  <tbody>\n",
       "    <tr>\n",
       "      <th>False</th>\n",
       "      <td>0.361183</td>\n",
       "      <td>0.0</td>\n",
       "    </tr>\n",
       "    <tr>\n",
       "      <th>True</th>\n",
       "      <td>0.539823</td>\n",
       "      <td>1.0</td>\n",
       "    </tr>\n",
       "  </tbody>\n",
       "</table>\n",
       "</div>"
      ]
     },
     "execution_count": 20,
     "metadata": {},
     "output_type": "execute_result"
    }
   ],
   "execution_count": 20
  },
  {
   "metadata": {
    "ExecuteTime": {
     "end_time": "2025-08-03T03:45:05.962028Z",
     "start_time": "2025-08-03T03:45:05.951044Z"
    }
   },
   "cell_type": "code",
   "source": [
    "# 家庭规模影响\n",
    "train_data['FamilySize'] = train_data['SibSp'] + train_data['Parch'] + 1\n",
    "Survival_family = train_data.groupby('FamilySize')['Survived'].agg(['mean', 'median'])\n",
    "Survival_family"
   ],
   "id": "bb1eb38844d5f774",
   "outputs": [
    {
     "data": {
      "text/plain": [
       "                mean  median\n",
       "FamilySize                  \n",
       "1           0.303538     0.0\n",
       "2           0.552795     1.0\n",
       "3           0.578431     1.0\n",
       "4           0.724138     1.0\n",
       "5           0.200000     0.0\n",
       "6           0.136364     0.0\n",
       "7           0.333333     0.0\n",
       "8           0.000000     0.0\n",
       "11          0.000000     0.0"
      ],
      "text/html": [
       "<div>\n",
       "<style scoped>\n",
       "    .dataframe tbody tr th:only-of-type {\n",
       "        vertical-align: middle;\n",
       "    }\n",
       "\n",
       "    .dataframe tbody tr th {\n",
       "        vertical-align: top;\n",
       "    }\n",
       "\n",
       "    .dataframe thead th {\n",
       "        text-align: right;\n",
       "    }\n",
       "</style>\n",
       "<table border=\"1\" class=\"dataframe\">\n",
       "  <thead>\n",
       "    <tr style=\"text-align: right;\">\n",
       "      <th></th>\n",
       "      <th>mean</th>\n",
       "      <th>median</th>\n",
       "    </tr>\n",
       "    <tr>\n",
       "      <th>FamilySize</th>\n",
       "      <th></th>\n",
       "      <th></th>\n",
       "    </tr>\n",
       "  </thead>\n",
       "  <tbody>\n",
       "    <tr>\n",
       "      <th>1</th>\n",
       "      <td>0.303538</td>\n",
       "      <td>0.0</td>\n",
       "    </tr>\n",
       "    <tr>\n",
       "      <th>2</th>\n",
       "      <td>0.552795</td>\n",
       "      <td>1.0</td>\n",
       "    </tr>\n",
       "    <tr>\n",
       "      <th>3</th>\n",
       "      <td>0.578431</td>\n",
       "      <td>1.0</td>\n",
       "    </tr>\n",
       "    <tr>\n",
       "      <th>4</th>\n",
       "      <td>0.724138</td>\n",
       "      <td>1.0</td>\n",
       "    </tr>\n",
       "    <tr>\n",
       "      <th>5</th>\n",
       "      <td>0.200000</td>\n",
       "      <td>0.0</td>\n",
       "    </tr>\n",
       "    <tr>\n",
       "      <th>6</th>\n",
       "      <td>0.136364</td>\n",
       "      <td>0.0</td>\n",
       "    </tr>\n",
       "    <tr>\n",
       "      <th>7</th>\n",
       "      <td>0.333333</td>\n",
       "      <td>0.0</td>\n",
       "    </tr>\n",
       "    <tr>\n",
       "      <th>8</th>\n",
       "      <td>0.000000</td>\n",
       "      <td>0.0</td>\n",
       "    </tr>\n",
       "    <tr>\n",
       "      <th>11</th>\n",
       "      <td>0.000000</td>\n",
       "      <td>0.0</td>\n",
       "    </tr>\n",
       "  </tbody>\n",
       "</table>\n",
       "</div>"
      ]
     },
     "execution_count": 43,
     "metadata": {},
     "output_type": "execute_result"
    }
   ],
   "execution_count": 43
  },
  {
   "metadata": {
    "ExecuteTime": {
     "end_time": "2025-08-03T03:46:21.952081Z",
     "start_time": "2025-08-03T03:46:21.940376Z"
    }
   },
   "cell_type": "code",
   "source": [
    "# 登船港口分析\n",
    "Survival_Port = train_data.groupby('Embarked')['Survived'].agg(['mean', 'median'])\n",
    "Survival_Port"
   ],
   "id": "8c4cb417eec7443e",
   "outputs": [
    {
     "data": {
      "text/plain": [
       "              mean  median\n",
       "Embarked                  \n",
       "C         0.553571     1.0\n",
       "Q         0.389610     0.0\n",
       "S         0.336957     0.0"
      ],
      "text/html": [
       "<div>\n",
       "<style scoped>\n",
       "    .dataframe tbody tr th:only-of-type {\n",
       "        vertical-align: middle;\n",
       "    }\n",
       "\n",
       "    .dataframe tbody tr th {\n",
       "        vertical-align: top;\n",
       "    }\n",
       "\n",
       "    .dataframe thead th {\n",
       "        text-align: right;\n",
       "    }\n",
       "</style>\n",
       "<table border=\"1\" class=\"dataframe\">\n",
       "  <thead>\n",
       "    <tr style=\"text-align: right;\">\n",
       "      <th></th>\n",
       "      <th>mean</th>\n",
       "      <th>median</th>\n",
       "    </tr>\n",
       "    <tr>\n",
       "      <th>Embarked</th>\n",
       "      <th></th>\n",
       "      <th></th>\n",
       "    </tr>\n",
       "  </thead>\n",
       "  <tbody>\n",
       "    <tr>\n",
       "      <th>C</th>\n",
       "      <td>0.553571</td>\n",
       "      <td>1.0</td>\n",
       "    </tr>\n",
       "    <tr>\n",
       "      <th>Q</th>\n",
       "      <td>0.389610</td>\n",
       "      <td>0.0</td>\n",
       "    </tr>\n",
       "    <tr>\n",
       "      <th>S</th>\n",
       "      <td>0.336957</td>\n",
       "      <td>0.0</td>\n",
       "    </tr>\n",
       "  </tbody>\n",
       "</table>\n",
       "</div>"
      ]
     },
     "execution_count": 45,
     "metadata": {},
     "output_type": "execute_result"
    }
   ],
   "execution_count": 45
  },
  {
   "metadata": {
    "ExecuteTime": {
     "end_time": "2025-08-03T08:46:28.103610Z",
     "start_time": "2025-08-03T08:46:28.026405Z"
    }
   },
   "cell_type": "code",
   "source": [
    "#年龄分布与存活 =\n",
    "plt.figure(figsize=(8, 6))\n",
    "\n",
    "sns.boxplot(data =train_data,x='Survived', y='Age')\n",
    "plt.title('年龄分布与存活关系')\n",
    "plt.xlabel('是否存活（0=否，1=是）')\n",
    "plt.ylabel('年龄')\n",
    "\n",
    "\n",
    "plt.tight_layout()\n",
    "plt.show()"
   ],
   "id": "b13382a636ded0c9",
   "outputs": [
    {
     "data": {
      "text/plain": [
       "<Figure size 800x600 with 1 Axes>"
      ],
      "image/png": "[encoded data removed]"
     },
     "metadata": {},
     "output_type": "display_data"
    }
   ],
   "execution_count": 9
  },
  {
   "metadata": {
    "ExecuteTime": {
     "end_time": "2025-08-03T08:46:43.196209Z",
     "start_time": "2025-08-03T08:46:43.110042Z"
    }
   },
   "cell_type": "code",
   "source": [
    "# 票价与存活关系\n",
    "plt.figure(figsize=(8, 6))\n",
    "sns.boxplot(data =train_data,x='Survived', y='Fare')\n",
    "plt.title('票价分布与存活关系')\n",
    "plt.xlabel('是否存活（0=否，1=是）')\n",
    "plt.ylabel('票价')\n",
    "\n",
    "plt.tight_layout()\n",
    "plt.show()\n"
   ],
   "id": "8d73b744fc0d792",
   "outputs": [
    {
     "data": {
      "text/plain": [
       "<Figure size 800x600 with 1 Axes>"
      ],
      "image/png": "[encoded data removed]"
     },
     "metadata": {},
     "output_type": "display_data"
    }
   ],
   "execution_count": 11
  },
  {
   "metadata": {
    "ExecuteTime": {
     "end_time": "2025-08-03T08:47:33.595346Z",
     "start_time": "2025-08-03T08:47:33.502941Z"
    }
   },
   "cell_type": "code",
   "source": [
    "# 年龄、票价和存活状态\n",
    "plt.figure(figsize=(8, 6))\n",
    "sns.scatterplot(\n",
    "    data=train_data,\n",
    "    x='Age',\n",
    "    y='Fare',\n",
    "    hue='Survived',\n",
    "    palette={0: 'red', 1: 'green'},\n",
    "\n",
    ")\n",
    "\n",
    "plt.tight_layout()\n",
    "plt.show()\n"
   ],
   "id": "e92f5e8966191f54",
   "outputs": [
    {
     "data": {
      "text/plain": [
       "<Figure size 800x600 with 1 Axes>"
      ],
      "image/png": "[encoded data removed]"
     },
     "metadata": {},
     "output_type": "display_data"
    }
   ],
   "execution_count": 12
  },
  {
   "metadata": {},
   "cell_type": "code",
   "outputs": [],
   "execution_count": null,
   "source": "",
   "id": "2338a3acc1f50fba"
  },
  {
   "metadata": {},
   "cell_type": "code",
   "outputs": [],
   "execution_count": null,
   "source": "",
   "id": "ba913c5021c50771"
  }
 ],
 "metadata": {
  "kernelspec": {
   "display_name": "Python 3",
   "language": "python",
   "name": "python3"
  },
  "language_info": {
   "codemirror_mode": {
    "name": "ipython",
    "version": 2
   },
   "file_extension": ".py",
   "mimetype": "text/x-python",
   "name": "python",
   "nbconvert_exporter": "python",
   "pygments_lexer": "ipython2",
   "version": "2.7.6"
  }
 },
 "nbformat": 4,
 "nbformat_minor": 5
}
