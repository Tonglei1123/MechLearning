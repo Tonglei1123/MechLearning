{
 "cells": [
  {
   "metadata": {},
   "cell_type": "markdown",
   "source": [
    "## 问答题\n",
    "1.支持向量机的基本思想是什么？\n",
    "支持向量机的基本思想是找到一个最优决策边界，使得不同类别的数据点之间的间隔最大化。\n",
    "\n",
    "2.什么是支持向量？\n",
    "支持向量是距离决策边界最近的那些数据点。\n",
    "\n",
    "3.在使用 SVM 时，缩放输入值为什么很重要？\n",
    "因为SVM 对输入特征的尺度非常敏感，数值范围较大的特征会影响模型的优化。所以需要对输入特征进行标准化或归一化处理。\n",
    "\n",
    "4.SVM 分类器在对实例进行分类时能输出置信度分数吗？概率呢？\n",
    "SVM 可以输出决策函数值。\n",
    "SVM无法直接输出概率，但可通过超参数设定。\n",
    "\n",
    "5.你如何在 LinearSVC、SVC 和 SGDClassifier 之间进行选择？\n",
    "LinearSVC：基于线性核的 SVM 实现，使用坐标下降算法优化，适合大规模线性可分问题。\n",
    "SVC:支持多种核函数，适合中小型数据集的非线性问题。\n",
    "SGDClassifier :使用随机梯度下降优化, 可以在线学习。\n",
    "\n",
    "6.假设你已经使用 RBF 核训练了一个 SVM 分类器，但它似乎欠拟合训练集。 你应该增大还是减小 γ（gamma）？C 呢？\n",
    " 当模型欠拟合，C和γ都需要增大。\n",
    "\n",
    "7.ε 不敏感模型是什么意思？\n",
    "在回归问题中，支持向量回归（SVR)允许预测值与真实值之间存在一个ε 的误差容忍范围。只有当预测误差超过 ε 时，才会计算损失。\n",
    "这种机制使得 SVR 对小误差不敏感，从而鼓励模型找到一个平滑的回归函数，避免过拟合。\n",
    "\n",
    "8.使用核技巧有什么意义？\n",
    "核技巧让 SVM 能够以较低计算成本解决复杂的非线性分类/回归问题。"
   ],
   "id": "a0b8b340a137572d"
  },
  {
   "metadata": {},
   "cell_type": "markdown",
   "source": [
    "## 编程题\n",
    "1. 在葡萄酒数据集上训练SVM分类器，可以使用sklearn.datasets.load_wine()加载它。该数据集包含3个不同种植者生产的178个葡萄酒样本的化学分析：目标是训练一个分类模型，该模型能够根据葡萄酒的化学分析预测种植者。由于SVM分类器是二元分类器，将需要使用“一对全部”对所有三个类进行分类。能达到的精度是多少？\n",
    "\n",
    "   \"一对全部\"可以复习 **8_sklearn做分类.ipynb**里的笔记，里面提到了用二元分类器做多分类问题\n",
    "\n",
    "---\n",
    "\n",
    "2. 提前预习 **10_支持向量机.ipynb** 最新更新的笔记 （把SVM分类用梯度下降实现）； 大概理解笔记后，尝试自己对照笔记 实现用梯度下降实现SVM分类\n",
    "\n",
    "   并把自定义的SVM分类用于 iris data(鸢尾花数据)； 取花瓣长度 和 花瓣宽度特征， 分类 看是不是 分类2的花 （(iris.target == 2)\n",
    "\n",
    "   对比下sklearn自带的SVM分类 和 自定义SVM分类 实现的分类效果\n",
    "\n"
   ],
   "id": "f5a1dfdea31badc1"
  },
  {
   "metadata": {
    "ExecuteTime": {
     "end_time": "2025-08-09T04:07:56.157669Z",
     "start_time": "2025-08-09T04:07:56.142049Z"
    }
   },
   "cell_type": "code",
   "source": [
    "from sklearn.datasets import load_wine\n",
    "from sklearn.model_selection import train_test_split, GridSearchCV\n",
    "from sklearn.preprocessing import StandardScaler\n",
    "from sklearn.svm import SVC\n",
    "from sklearn.multiclass import OneVsRestClassifier\n",
    "from sklearn.metrics import accuracy_score\n",
    "from sklearn.pipeline import Pipeline, make_pipeline"
   ],
   "id": "4210292c3c2ffc48",
   "outputs": [],
   "execution_count": 3
  },
  {
   "metadata": {
    "ExecuteTime": {
     "end_time": "2025-08-09T03:20:21.682689Z",
     "start_time": "2025-08-09T03:20:21.666978Z"
    }
   },
   "cell_type": "code",
   "source": [
    "wine = load_wine()\n",
    "X = wine.data\n",
    "y = wine.target\n"
   ],
   "id": "9a1c1eb959d7a19b",
   "outputs": [],
   "execution_count": 2
  },
  {
   "metadata": {
    "ExecuteTime": {
     "end_time": "2025-08-09T07:22:29.866420Z",
     "start_time": "2025-08-09T07:22:29.845354Z"
    }
   },
   "cell_type": "code",
   "source": "X_train, X_test, y_train, y_test = train_test_split(X, y, test_size=0.2, random_state=42)\n",
   "id": "5cb2f6c96801f913",
   "outputs": [],
   "execution_count": 4
  },
  {
   "metadata": {
    "ExecuteTime": {
     "end_time": "2025-08-09T07:26:49.226767Z",
     "start_time": "2025-08-09T07:26:49.212698Z"
    }
   },
   "cell_type": "code",
   "source": [
    "model = Pipeline([\n",
    "    ('scaler', StandardScaler()),\n",
    "    ('OneVsRestClassifier', OneVsRestClassifier(SVC(random_state=42)))\n",
    "])"
   ],
   "id": "b35b97904124cb87",
   "outputs": [],
   "execution_count": 16
  },
  {
   "metadata": {
    "ExecuteTime": {
     "end_time": "2025-08-09T07:26:48.392044Z",
     "start_time": "2025-08-09T07:26:48.373892Z"
    }
   },
   "cell_type": "code",
   "source": [
    "param_grid = {\n",
    "    'OneVsRestClassifier__estimator__C': [0.01, 0.1, 1, 10, 100],\n",
    "    'OneVsRestClassifier__estimator__kernel': ['linear', 'rbf', 'poly'],\n",
    "    'OneVsRestClassifier__estimator__gamma': ['scale', 'auto', 0.001, 0.01, 0.1, 1],\n",
    "    'OneVsRestClassifier__estimator__degree': [2, 3, 4]  # 多项式核专用\n",
    "}\n"
   ],
   "id": "86fd0758e1827743",
   "outputs": [],
   "execution_count": 15
  },
  {
   "metadata": {
    "ExecuteTime": {
     "end_time": "2025-08-09T07:28:26.021921Z",
     "start_time": "2025-08-09T07:28:19.641867Z"
    }
   },
   "cell_type": "code",
   "source": [
    "grid =GridSearchCV(\n",
    "     model,\n",
    "     param_grid,\n",
    "     cv=10,\n",
    "     scoring='accuracy',\n",
    "     n_jobs=-1,\n",
    "     verbose=1\n",
    ")\n",
    "grid.fit(X_train, y_train)\n",
    "best_model = grid.best_estimator_\n",
    "y_pred = best_model.predict(X_test)\n",
    "accuracy = accuracy_score(y_test, y_pred)\n",
    "\n",
    "print(f\"测试集准确率: {accuracy:.4f}\")\n",
    "print(f\"最佳参数: {grid.best_params_}\")"
   ],
   "id": "556460a8e34a8018",
   "outputs": [
    {
     "name": "stdout",
     "output_type": "stream",
     "text": [
      "Fitting 10 folds for each of 270 candidates, totalling 2700 fits\n",
      "测试集准确率: 1.0000\n",
      "最佳参数: {'OneVsRestClassifier__estimator__C': 0.01, 'OneVsRestClassifier__estimator__degree': 2, 'OneVsRestClassifier__estimator__gamma': 'scale', 'OneVsRestClassifier__estimator__kernel': 'rbf'}\n"
     ]
    }
   ],
   "execution_count": 20
  },
  {
   "metadata": {},
   "cell_type": "code",
   "outputs": [],
   "execution_count": null,
   "source": "#",
   "id": "e8551d3ecddd9010"
  },
  {
   "metadata": {
    "ExecuteTime": {
     "end_time": "2025-08-09T07:56:38.640772Z",
     "start_time": "2025-08-09T07:56:38.617835Z"
    }
   },
   "cell_type": "code",
   "source": [
    "from sklearn import datasets\n",
    "import numpy as np\n",
    "\n",
    "iris = datasets.load_iris()\n",
    "X = iris[\"data\"][:, (2, 3)]\n",
    "y = iris[\"target\"]"
   ],
   "id": "72c5c23c61d640e6",
   "outputs": [],
   "execution_count": 24
  },
  {
   "metadata": {
    "ExecuteTime": {
     "end_time": "2025-08-09T08:28:22.985149Z",
     "start_time": "2025-08-09T08:28:22.953861Z"
    }
   },
   "cell_type": "code",
   "source": [
    "# Scikit-Learn\n",
    "X_train, X_test, y_train, y_test = train_test_split(X, y, test_size=0.2, random_state=42)\n",
    "\n",
    "model = Pipeline([\n",
    "    ('scaler', StandardScaler()),\n",
    "    ('svm', SVC(random_state=42, kernel='linear', C=1.0))\n",
    "])\n",
    "model.fit(X_train, y_train)\n",
    "y_pred = model.predict(X_test)\n",
    "accuracy = accuracy_score(y_test, y_pred)\n",
    "print(f\" Scikit-Learn准确率: {accuracy:.4f}\")"
   ],
   "id": "45b6987d01389558",
   "outputs": [
    {
     "name": "stdout",
     "output_type": "stream",
     "text": [
      " Scikit-Learn准确率: 1.0000\n"
     ]
    }
   ],
   "execution_count": 26
  },
  {
   "metadata": {
    "ExecuteTime": {
     "end_time": "2025-08-09T08:28:26.090386Z",
     "start_time": "2025-08-09T08:28:26.056004Z"
    }
   },
   "cell_type": "code",
   "source": [
    "#自定义svm\n",
    "class CustomSVM:\n",
    "    def __init__(self, C=1.0, learning_rate=0.1, max_iter=1000, tol=1e-3):\n",
    "        self.C = C\n",
    "        self.lr = learning_rate\n",
    "        self.max_iter = max_iter\n",
    "        self.tol = tol\n",
    "        self.w = None\n",
    "        self.b = None\n",
    "\n",
    "    def fit(self, X, y):\n",
    "        n_samples, n_features = X.shape\n",
    "        self.w = np.zeros(n_features)\n",
    "        self.b = 0\n",
    "\n",
    "        y_ = np.where(y <= 0, -1, 1)\n",
    "\n",
    "        for _ in range(self.max_iter):\n",
    "            for idx, x_i in enumerate(X):\n",
    "                condition = y_[idx] * (np.dot(x_i, self.w) - self.b) >= 1\n",
    "\n",
    "                if condition:\n",
    "                    dw = self.w\n",
    "                    db = 0\n",
    "                else:\n",
    "                    dw = self.w - self.C * y_[idx] * x_i\n",
    "                    db = self.C * y_[idx]\n",
    "\n",
    "                self.w -= self.lr * dw\n",
    "                self.b -= self.lr * db\n",
    "\n",
    "    def predict(self, X):\n",
    "        linear_output = np.dot(X, self.w) - self.b\n",
    "        return np.sign(linear_output)\n",
    "\n",
    "    def decision_function(self, X):\n",
    "        return np.dot(X, self.w) - self.b\n",
    "\n",
    "\n"
   ],
   "id": "a31b94f810669638",
   "outputs": [],
   "execution_count": 28
  },
  {
   "metadata": {
    "ExecuteTime": {
     "end_time": "2025-08-09T08:30:19.625922Z",
     "start_time": "2025-08-09T08:30:18.671020Z"
    }
   },
   "cell_type": "code",
   "source": [
    "svm_custom = CustomSVM(C=1.0, learning_rate=0.1, max_iter=1000)\n",
    "svm_custom.fit(X_train, y_train)\n",
    "pred_custom = svm_custom.predict(X_test)\n",
    "acc_custom = accuracy_score(y_test, pred_custom)\n",
    "\n",
    "print(f\"CustomSVM 准确率: {acc_custom:.4f}\")\n"
   ],
   "id": "38b5663b6455b622",
   "outputs": [
    {
     "name": "stdout",
     "output_type": "stream",
     "text": [
      "CustomSVM 准确率: 0.3000\n"
     ]
    }
   ],
   "execution_count": 31
  }
 ],
 "metadata": {
  "kernelspec": {
   "display_name": "Python 3",
   "language": "python",
   "name": "python3"
  },
  "language_info": {
   "codemirror_mode": {
    "name": "ipython",
    "version": 2
   },
   "file_extension": ".py",
   "mimetype": "text/x-python",
   "name": "python",
   "nbconvert_exporter": "python",
   "pygments_lexer": "ipython2",
   "version": "2.7.6"
  }
 },
 "nbformat": 4,
 "nbformat_minor": 5
}
